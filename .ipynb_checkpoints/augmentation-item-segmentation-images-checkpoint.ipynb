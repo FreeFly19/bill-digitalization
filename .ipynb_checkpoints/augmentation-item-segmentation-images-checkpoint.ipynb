{
 "cells": [
  {
   "cell_type": "code",
   "execution_count": 20,
   "metadata": {},
   "outputs": [],
   "source": [
    "import imageio\n",
    "import numpy as np\n",
    "import imgaug as ia\n",
    "import imgaug.augmenters as iaa\n",
    "from imgaug.augmentables.segmaps import SegmentationMapOnImage\n",
    "\n",
    "import cv2"
   ]
  },
  {
   "cell_type": "code",
   "execution_count": 21,
   "metadata": {},
   "outputs": [],
   "source": [
    "seq = iaa.Sequential([\n",
    "    iaa.Sometimes(0.5,\n",
    "        iaa.GaussianBlur(sigma=(0, 0.5))\n",
    "    ),\n",
    "    iaa.Dropout([0.00, 0.1]),\n",
    "    iaa.Sharpen((0.0, 0.3)),\n",
    "    iaa.Affine(rotate=(-5, 5)),\n",
    "    iaa.Sometimes(0.2,\n",
    "        iaa.ElasticTransformation(alpha=10, sigma=2)\n",
    "    ),\n",
    "    iaa.Multiply((0.8, 1.2), per_channel=0.2),\n",
    "], random_order=True)"
   ]
  },
  {
   "cell_type": "code",
   "execution_count": 22,
   "metadata": {},
   "outputs": [],
   "source": [
    "img_counter = 1\n",
    "for i in range(100):\n",
    "    img = cv2.imread('generated/' + str(i) + '_origin.png')\n",
    "    \n",
    "    mask_types = ['item', 'item-name', 'item-price', 'total']\n",
    "    \n",
    "    masks = []\n",
    "    \n",
    "    for mask_type in mask_types:\n",
    "        mask = cv2.imread('generated/' + str(i) + '_' + mask_type + '.png')[:, :, 0:1]\n",
    "        mask = np.where(mask.reshape(mask.shape[0:2]) == 0, 0, 1)\n",
    "        masks.append(mask)\n",
    "    \n",
    "    for j in range(10):\n",
    "        segmaps = [SegmentationMapOnImage(m, img.shape[0:2], nb_classes=2) for m in masks]\n",
    "        aug_img, aug_masks = seq(image=img, segmentation_maps=segmaps)\n",
    "        \n",
    "        cv2.imwrite('augmented/' + str(img_counter) + '.jpg', aug_img)\n",
    "        \n",
    "        for i, aug_mask in enumerate(aug_masks):\n",
    "            cv2.imwrite('augmented/' + str(img_counter) + '_' + mask_types[i] + '.png', aug_mask.draw(colors=[(0,0,0), (255, 255, 255)]))\n",
    "        img_counter+=1"
   ]
  },
  {
   "cell_type": "code",
   "execution_count": null,
   "metadata": {},
   "outputs": [],
   "source": []
  }
 ],
 "metadata": {
  "kernelspec": {
   "display_name": "Python 3",
   "language": "python",
   "name": "python3"
  },
  "language_info": {
   "codemirror_mode": {
    "name": "ipython",
    "version": 3
   },
   "file_extension": ".py",
   "mimetype": "text/x-python",
   "name": "python",
   "nbconvert_exporter": "python",
   "pygments_lexer": "ipython3",
   "version": "3.6.8"
  }
 },
 "nbformat": 4,
 "nbformat_minor": 2
}
