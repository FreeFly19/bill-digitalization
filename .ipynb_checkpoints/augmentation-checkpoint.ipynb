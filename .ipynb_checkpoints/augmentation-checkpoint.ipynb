{
 "cells": [
  {
   "cell_type": "code",
   "execution_count": 14,
   "metadata": {},
   "outputs": [],
   "source": [
    "import imageio\n",
    "import numpy as np\n",
    "import imgaug as ia\n",
    "import imgaug.augmenters as iaa\n",
    "from imgaug.augmentables.segmaps import SegmentationMapOnImage\n",
    "\n",
    "import cv2"
   ]
  },
  {
   "cell_type": "code",
   "execution_count": 15,
   "metadata": {},
   "outputs": [],
   "source": [
    "seq = iaa.Sequential([\n",
    "    iaa.Sometimes(0.5,\n",
    "        iaa.GaussianBlur(sigma=(0, 0.5))\n",
    "    ),\n",
    "    iaa.Dropout([0.00, 0.2]),\n",
    "    iaa.Sharpen((0.0, 1.0)),\n",
    "    iaa.Affine(rotate=(-45, 45)),\n",
    "    iaa.Sometimes(0.2,\n",
    "        iaa.ElasticTransformation(alpha=50, sigma=5)\n",
    "    ),\n",
    "    iaa.Multiply((0.8, 1.2), per_channel=0.2),\n",
    "], random_order=True)"
   ]
  },
  {
   "cell_type": "code",
   "execution_count": 20,
   "metadata": {},
   "outputs": [],
   "source": [
    "img_counter = 1\n",
    "for i in range(1, 12):\n",
    "    img = cv2.imread('images/' + str(i) + '.jpg')\n",
    "    mask = cv2.imread('images/' + str(i) + '_mask.png')[:, :, 0:1]\n",
    "    mask = np.where(mask.reshape(mask.shape[0:2]) == 0, 0, 1)\n",
    "    \n",
    "    for j in range(100):\n",
    "        segmap = SegmentationMapOnImage(mask, mask.shape[0:2], nb_classes=2)\n",
    "        aug_img, aug_mask = seq(image=img, segmentation_maps=segmap)\n",
    "        cv2.imwrite('augmented/' + str(img_counter) + '.jpg', aug_img)\n",
    "        cv2.imwrite('augmented/' + str(img_counter) + '_mask.png', aug_mask.draw(colors=[(0,0,0), (255, 255, 255)]))\n",
    "        img_counter+=1"
   ]
  },
  {
   "cell_type": "code",
   "execution_count": null,
   "metadata": {},
   "outputs": [],
   "source": []
  }
 ],
 "metadata": {
  "kernelspec": {
   "display_name": "Python 3",
   "language": "python",
   "name": "python3"
  },
  "language_info": {
   "codemirror_mode": {
    "name": "ipython",
    "version": 3
   },
   "file_extension": ".py",
   "mimetype": "text/x-python",
   "name": "python",
   "nbconvert_exporter": "python",
   "pygments_lexer": "ipython3",
   "version": "3.6.8"
  }
 },
 "nbformat": 4,
 "nbformat_minor": 2
}
