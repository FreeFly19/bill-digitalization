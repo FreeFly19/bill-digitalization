{
 "cells": [
  {
   "cell_type": "code",
   "execution_count": 1,
   "metadata": {},
   "outputs": [],
   "source": [
    "import cv2"
   ]
  },
  {
   "cell_type": "code",
   "execution_count": 16,
   "metadata": {},
   "outputs": [],
   "source": [
    "for i in range(1, 11):\n",
    "    item = cv2.imread(str(i) + '_item.png')\n",
    "    item_name = cv2.imread(str(i) + '_item-name.png')\n",
    "    item_price = cv2.imread(str(i) + '_item-price.png')\n",
    "    total = cv2.imread(str(i) + '_total.png')\n",
    "    \n",
    "    item[item_name > 0] = 255\n",
    "    item[item_price > 0] = 255\n",
    "    \n",
    "    cv2.imwrite(str(i) + '_item_fixed.png', item)\n",
    "    cv2.imwrite(str(i) + '_item-name_fixed.png', item_name)\n",
    "    cv2.imwrite(str(i) + '_item-price_fixed.png', item_price)\n",
    "    cv2.imwrite(str(i) + '_total_fixed.png', total)"
   ]
  },
  {
   "cell_type": "code",
   "execution_count": null,
   "metadata": {},
   "outputs": [],
   "source": []
  }
 ],
 "metadata": {
  "kernelspec": {
   "display_name": "Python 3",
   "language": "python",
   "name": "python3"
  },
  "language_info": {
   "codemirror_mode": {
    "name": "ipython",
    "version": 3
   },
   "file_extension": ".py",
   "mimetype": "text/x-python",
   "name": "python",
   "nbconvert_exporter": "python",
   "pygments_lexer": "ipython3",
   "version": "3.6.8"
  }
 },
 "nbformat": 4,
 "nbformat_minor": 2
}
